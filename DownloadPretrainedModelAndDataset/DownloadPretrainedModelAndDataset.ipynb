{
 "cells": [
  {
   "cell_type": "markdown",
   "metadata": {},
   "source": [
    "# Download Pretrained VGG16 Model Weights and Dataset\n",
    "\n",
    "API documentation for PyTorch VGG16 is in [this link](https://pytorch.org/vision/main/models/generated/torchvision.models.vgg16.html)"
   ]
  },
  {
   "cell_type": "code",
   "execution_count": 18,
   "metadata": {},
   "outputs": [],
   "source": [
    "import torchvision.models\n",
    "from torchvision.models import VGG16_Weights\n",
    "from os.path import join, isdir\n",
    "from os import makedirs"
   ]
  },
  {
   "cell_type": "markdown",
   "metadata": {},
   "source": [
    "## Create a VGG16 Model Instance With Pretrained Weights\n",
    "\n",
    "The following code creates a ```torchvision.models.vgg16``` instance and assigns it to variable ```scene_identification_model```. The constructor of the class accepts a keyword argument ```weights```, which is set to ```VGG16_Weights.DEFAULT``` in this example.\n",
    "\n",
    "By creating the model instance, PyTorch will download the pretrained weights of this VGG16 neural network and store it locally."
   ]
  },
  {
   "cell_type": "code",
   "execution_count": 19,
   "metadata": {},
   "outputs": [],
   "source": [
    "scene_identification_model = torchvision.models.vgg16(weights = VGG16_Weights.DEFAULT)"
   ]
  },
  {
   "cell_type": "markdown",
   "metadata": {},
   "source": [
    "## Download Dataset From Pytorch"
   ]
  },
  {
   "cell_type": "markdown",
   "metadata": {},
   "source": [
    "In this example, the __MIT Places360__ dataset is used. This dataset contains 10M images of more than 400 scene categories, which can be a suitable option for training a scene classification model. More info about this dataset [here](http://places2.csail.mit.edu/index.html).\n",
    "\n",
    "PyTorch provides a simple API to download datasets and store them locally. In the code below, we wish to download the images of __MIT Places365__ to a location specified by ```dataset_prefix```, which is in a subfolder called ```dataset/mit_places_360``` in the current working directory. Then, we initiate the download process by instantiating a ```Places365``` PyTorch dataset object. 3 keyword arguments of its constructor are used in this example:\n",
    "* ```download```: When set to ```True``` the images of the dataset will be downloaded and extracted automatically into the folder specified.\n",
    "* ```split```: Splits the training and testing dataset into two directories\n",
    "* ```small```: Set to true to use lower resolution images, easing computation and network load.\n",
    "\n",
    "The constructor of ```Places365``` class also takes in other important keyword arguments but not used in this example. The detailed documentation of ```Places365``` class is [here](https://pytorch.org/vision/stable/generated/torchvision.datasets.Places365.html#torchvision.datasets.Places365).\n",
    "\n",
    "This process can take a lot of time, depending on how large the dataset is, network speed and CPU performance."
   ]
  },
  {
   "cell_type": "code",
   "execution_count": 21,
   "metadata": {},
   "outputs": [
    {
     "name": "stdout",
     "output_type": "stream",
     "text": [
      "Downloading https://data.csail.mit.edu/places/places365/train_256_places365standard.tar to dataset/mit_places_365/train_256_places365standard.tar\n"
     ]
    },
    {
     "name": "stderr",
     "output_type": "stream",
     "text": [
      "0.0%"
     ]
    }
   ],
   "source": [
    "dataset_prefix = join(\"dataset\", \"mit_places_365\")\n",
    "if (not isdir(dataset_prefix)):\n",
    "    makedirs(dataset_prefix)\n",
    "\n",
    "mit_places_dataset = torchvision.datasets.Places365(dataset_prefix, download = True, small = True)"
   ]
  },
  {
   "cell_type": "code",
   "execution_count": null,
   "metadata": {},
   "outputs": [],
   "source": []
  }
 ],
 "metadata": {
  "kernelspec": {
   "display_name": "Python 3",
   "language": "python",
   "name": "python3"
  },
  "language_info": {
   "codemirror_mode": {
    "name": "ipython",
    "version": 3
   },
   "file_extension": ".py",
   "mimetype": "text/x-python",
   "name": "python",
   "nbconvert_exporter": "python",
   "pygments_lexer": "ipython3",
   "version": "3.11.9"
  }
 },
 "nbformat": 4,
 "nbformat_minor": 2
}
